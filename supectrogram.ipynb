{
  "nbformat": 4,
  "nbformat_minor": 0,
  "metadata": {
    "colab": {
      "private_outputs": true,
      "provenance": [],
      "machine_shape": "hm",
      "gpuType": "T4",
      "authorship_tag": "ABX9TyN1dxPtiNWC9/HkspJSC0wC",
      "include_colab_link": true
    },
    "kernelspec": {
      "name": "python3",
      "display_name": "Python 3"
    },
    "language_info": {
      "name": "python"
    },
    "accelerator": "GPU"
  },
  "cells": [
    {
      "cell_type": "markdown",
      "metadata": {
        "id": "view-in-github",
        "colab_type": "text"
      },
      "source": [
        "<a href=\"https://colab.research.google.com/github/banana-021203/supectrogram/blob/main/supectrogram.ipynb\" target=\"_parent\"><img src=\"https://colab.research.google.com/assets/colab-badge.svg\" alt=\"Open In Colab\"/></a>"
      ]
    },
    {
      "cell_type": "code",
      "execution_count": null,
      "metadata": {
        "id": "huc969BIt-pR"
      },
      "outputs": [],
      "source": [
        "import numpy as np\n",
        "from PIL import Image\n",
        "import soundfile as sf\n",
        "import librosa\n",
        "import librosa.display\n",
        "import matplotlib.pyplot as plt\n",
        "from matplotlib import cm\n"
      ]
    },
    {
      "cell_type": "code",
      "source": [
        "from google.colab import drive\n",
        "drive.mount('/content/drive')"
      ],
      "metadata": {
        "id": "-f3EdGTT9-su"
      },
      "execution_count": null,
      "outputs": []
    },
    {
      "cell_type": "code",
      "source": [
        "def NormalMatrix(filename: str) -> np.ndarray:\n",
        "  with Image.open(filename) as img:\n",
        "    mat = np.array(img.convert('L'))\n",
        "    return np.flipud(mat) / 255\n",
        "\n",
        "mag = NormalMatrix('/content/drive/MyDrive/asobi/18Fes.jpg')\n",
        "wave2 = librosa.griffinlim(mag)\n"
      ],
      "metadata": {
        "id": "iI3tpImGBUEa"
      },
      "execution_count": null,
      "outputs": []
    },
    {
      "cell_type": "code",
      "source": [
        "sf.write(file = '18Fes2.wav', data = wave2, samplerate = 44100)"
      ],
      "metadata": {
        "id": "yfZ-zt5EAao3"
      },
      "execution_count": null,
      "outputs": []
    },
    {
      "cell_type": "code",
      "source": [
        "fig, ax = plt.subplots()\n",
        "ax.specgram(wave2, Fs = 44100, NFFT = 2048, noverlap = 1024, cmap = cm.plasma)\n",
        "ax.set(xlabel = 'Time [s]', ylabel  = 'Frequency [Hz]')\n",
        "plt.tight_layout()"
      ],
      "metadata": {
        "id": "qExoRJQWB5aZ"
      },
      "execution_count": null,
      "outputs": []
    },
    {
      "cell_type": "code",
      "source": [
        "wav_path = '/content/drive/MyDrive/asobi/mb_audio.wav'"
      ],
      "metadata": {
        "id": "qts7AyyPGo5u"
      },
      "execution_count": null,
      "outputs": []
    },
    {
      "cell_type": "code",
      "source": [
        "from scipy.io import wavfile\n",
        "from scipy.signal import spectrogram\n",
        "\n",
        "# 音声ファイルの読み込み\n",
        "sample_rate, audio_data = wavfile.read(\"18Fes2.wav\")\n",
        "# 音声データの読み込み\n",
        "#sample_rate, audio_data = wavfile.read(file_path)\n",
        "\n",
        "if len(audio_data.shape) == 2:\n",
        "    audio_data = np.mean(audio_data, axis=1)\n",
        "# スペクトログラムの作成\n",
        "NFFT = 2048    # FFTのサンプル数\n",
        "noverlap = 1024   # オーバーラップするサンプル数\n",
        "\n",
        "fig, ax = plt.subplots()\n",
        "Pxx, freqs, bins, im = ax.specgram(audio_data, Fs=sample_rate, NFFT=NFFT, noverlap=noverlap, cmap='viridis')\n",
        "\n",
        "# 軸ラベルの設定\n",
        "ax.set(xlabel='Time [s]', ylabel='Frequency [Hz]')\n",
        "\n",
        "# カラーバーの追加\n",
        "cbar = plt.colorbar(im)\n",
        "\n",
        "# グラフの表示\n",
        "plt.tight_layout()\n",
        "plt.show()\n",
        "\n",
        "\n",
        "\n",
        "\n",
        "\n"
      ],
      "metadata": {
        "id": "mfmM5v4LIUHr"
      },
      "execution_count": null,
      "outputs": []
    },
    {
      "cell_type": "code",
      "source": [],
      "metadata": {
        "id": "C40HA-IzHlFQ"
      },
      "execution_count": null,
      "outputs": []
    }
  ]
}